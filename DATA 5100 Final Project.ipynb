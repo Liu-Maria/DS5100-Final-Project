{
 "cells": [
  {
   "cell_type": "markdown",
   "id": "12947292-55bd-4970-bbce-4774b10c1294",
   "metadata": {},
   "source": [
    "Metadata\n",
    "\n",
    "Title: Final Project Report\n",
    "\n",
    "Class: DS 5100\n",
    "\n",
    "Date: 04/04/2023\n",
    "\n",
    "Student Name: Maria Liu\n",
    "\n",
    "Student Net ID: ml4sg\n",
    "\n",
    "This URL:\n",
    "\n",
    "GitHub Repo URL: https://github.com/Liu-Maria/DS5100-2023-01--ml4sg-\n"
   ]
  },
  {
   "cell_type": "markdown",
   "id": "5007d4c6-cadb-4d92-bfc3-0cdbb3df8695",
   "metadata": {},
   "source": [
    "The Monte Carlo Module"
   ]
  },
  {
   "cell_type": "code",
   "execution_count": 23,
   "id": "986a7ae7-e4b9-4749-bf6b-cb914f5cf962",
   "metadata": {},
   "outputs": [],
   "source": [
    "class Die:\n",
    "    \n",
    "    def faces(self, face):\n",
    "        self.face_df=[self.face]\n",
    "        _final_df=pd.DataFrame(self.face_df)\n",
    "\n",
    "    def change_weight(self, face, new_weight):\n",
    "        \"Changes weight of die face\"\n",
    "\n",
    "        #Face value check\n",
    "        if side_face not in self.die.face.values:\n",
    "            raise ValueError(f\"Face '{side_face}' not defined for this die.\")\n",
    "        \n",
    "        try: #Weight is float\n",
    "            side_weight=float(side_weight)\n",
    "        except ValueError:\n",
    "            raise ValueError(f\"Weight '{side_face}' not float/cannot be converted.\")\n",
    "            \n",
    "        #Update\n",
    "        self.die.loc[self.die.face == side_face, 'weight'] = side_weight\n",
    "    \n",
    "    def roll(self, n_rolls=1):\n",
    "        \"Rolls the the dies n number of times and returns a list of results.\"\n",
    "        return self.die.face.sample(n_rolls, weights=self.die.weight, replace=True).to_list\n",
    "        \n",
    "    def show(self):\n",
    "        \"Shows the dataframe created with current faces and weights in intializer.\"\n",
    "        return self._final_df\n"
   ]
  },
  {
   "cell_type": "code",
   "execution_count": 26,
   "id": "c705ac1d-4372-425a-8cc2-effdcec5c8e2",
   "metadata": {},
   "outputs": [],
   "source": [
    "class Game:\n",
    "    \n",
    "    def dice(self, die_objects):\n",
    "        self.die_objects_df = pd.DataFrame(self.die_objects)\n",
    "        die_sides=self.die.face\n",
    "        if die_sides is not self.game.die_objects.values:\n",
    "            raise ValueError(f\"Sides '{die_sides}' not equal.\")\n",
    "        #only the most recent roll\n",
    "        return self.die_objects_df"
   ]
  },
  {
   "cell_type": "code",
   "execution_count": 19,
   "id": "0c454765-acb5-47df-befe-009935f15034",
   "metadata": {},
   "outputs": [],
   "source": [
    "class Analyzer:\n",
    "    \n",
    "\n",
    "    def roll_face_count(self, face, face_count):\n",
    "        \"Checks number of time a given face appears when rolled.\"\n",
    "        self.face_count = face_count\n",
    "        new_face_count = self.face_count\n",
    "        #Check face and add 1 to count per roll\n",
    "        \n",
    "    def jackpot(self, jackpot_count):\n",
    "        \"Count the number of times a roll face all faces as the same.\"\n",
    "        if face_count is new_face_count:\n",
    "            jackpot_count = jackpot_count + 1"
   ]
  },
  {
   "cell_type": "markdown",
   "id": "24c692b6-0a45-4cb3-8837-381a36ed4a0a",
   "metadata": {},
   "source": [
    "Test Module"
   ]
  },
  {
   "cell_type": "code",
   "execution_count": 15,
   "id": "072b4c22-dd43-4f92-b40f-e8f68efd6e63",
   "metadata": {},
   "outputs": [],
   "source": [
    "testi = Die()"
   ]
  },
  {
   "cell_type": "code",
   "execution_count": 16,
   "id": "0b5c7635-7142-4dd4-bbb1-119da08aaefc",
   "metadata": {},
   "outputs": [
    {
     "data": {
      "text/plain": [
       "<__main__.Die at 0x7fbc475e2670>"
      ]
     },
     "execution_count": 16,
     "metadata": {},
     "output_type": "execute_result"
    }
   ],
   "source": [
    "testi"
   ]
  },
  {
   "cell_type": "markdown",
   "id": "b9dd9f92-65d0-4f4f-9b20-0a1935345433",
   "metadata": {},
   "source": [
    "Test Results"
   ]
  },
  {
   "cell_type": "code",
   "execution_count": null,
   "id": "9a7a851b-4076-4990-887f-7aa3680d6991",
   "metadata": {},
   "outputs": [],
   "source": []
  },
  {
   "cell_type": "markdown",
   "id": "aeece777-8f73-4c7e-bf97-f57763345501",
   "metadata": {},
   "source": [
    "Scenarios"
   ]
  },
  {
   "cell_type": "code",
   "execution_count": null,
   "id": "10c63463-b78e-4ee8-bbfe-cbca4f89b4e7",
   "metadata": {},
   "outputs": [],
   "source": []
  },
  {
   "cell_type": "code",
   "execution_count": null,
   "id": "29a42f60-5455-4fea-81ff-f71a2270f75f",
   "metadata": {},
   "outputs": [],
   "source": []
  },
  {
   "cell_type": "code",
   "execution_count": null,
   "id": "a286664a-272a-4ec8-8ba2-c09bb9565c12",
   "metadata": {},
   "outputs": [],
   "source": []
  }
 ],
 "metadata": {
  "kernelspec": {
   "display_name": "Python 3 (ipykernel)",
   "language": "python",
   "name": "python3"
  },
  "language_info": {
   "codemirror_mode": {
    "name": "ipython",
    "version": 3
   },
   "file_extension": ".py",
   "mimetype": "text/x-python",
   "name": "python",
   "nbconvert_exporter": "python",
   "pygments_lexer": "ipython3",
   "version": "3.9.7"
  }
 },
 "nbformat": 4,
 "nbformat_minor": 5
}
