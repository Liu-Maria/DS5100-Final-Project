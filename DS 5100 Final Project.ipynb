{
 "cells": [
  {
   "cell_type": "markdown",
   "id": "12947292-55bd-4970-bbce-4774b10c1294",
   "metadata": {},
   "source": [
    "Metadata\n",
    "\n",
    "Title: Final Project Report\n",
    "\n",
    "Class: DS 5100\n",
    "\n",
    "Date: 04/04/2023\n",
    "\n",
    "Student Name: Maria Liu\n",
    "\n",
    "Student Net ID: ml4sg\n",
    "\n",
    "This URL: https://github.com/Liu-Maria/DS5100-Final-Project/blob/main/DATA%205100%20Final%20Project.pdf\n",
    "\n",
    "GitHub Repo URL: https://github.com/Liu-Maria/DS5100-Final-Project\n"
   ]
  },
  {
   "cell_type": "markdown",
   "id": "5007d4c6-cadb-4d92-bfc3-0cdbb3df8695",
   "metadata": {},
   "source": [
    "The Monte Carlo Module"
   ]
  },
  {
   "cell_type": "code",
   "execution_count": 99,
   "id": "986a7ae7-e4b9-4749-bf6b-cb914f5cf962",
   "metadata": {},
   "outputs": [],
   "source": [
    "class Die:\n",
    "    '''A die has N sides, or “faces”, and W weights, and can be rolled to select a face.'''\n",
    "    \n",
    "    def __init__(self, array_of_faces, weight):\n",
    "\n",
    "        self.array_of_faces = [*range(1, array_of_faces, 1)]\n",
    "        self.weight = 1\n",
    "        self.face_and_weights = pd.DataFrame({'face': self.array_of_faces, 'weight': self.weight}) \n",
    "        _final_df=pd.DataFrame(self.face_and_weights) \n",
    "              \n",
    "\n",
    "    def change_weight(self, face, new_weight):\n",
    "        \"Changes weight of die face\"\n",
    "        self.face = face\n",
    "        self.new_weight = new_weight\n",
    "        #Face value check\n",
    "        if face not in self.face_and_weights.face.values:\n",
    "            raise ValueError(f\"Face '{face}' not defined for this die.\")\n",
    "        \n",
    "        try: #Weight is float\n",
    "            new_weight=float(new_weight)\n",
    "        except ValueError:\n",
    "            raise ValueError(f\"Weight '{new_weight}' not float/cannot be converted.\")\n",
    "            \n",
    "        #Update\n",
    "        self.face_and_weights.loc[self.face_and_weights.face == face, 'weight'] = new_weight\n",
    "    \n",
    "    def roll(self, n_rolls=1):\n",
    "        \"Rolls the the dies n number of times and returns a list of results.\"\n",
    "        #this_weight=self.face_and_weights.weight\n",
    "        return self.face_and_weights.face.sample().to_list\n",
    "        \n",
    "    def show(self):\n",
    "        \"Shows the dataframe created with current faces and weights in intializer.\"\n",
    "        return self._final_df\n"
   ]
  },
  {
   "cell_type": "code",
   "execution_count": 214,
   "id": "c705ac1d-4372-425a-8cc2-effdcec5c8e2",
   "metadata": {},
   "outputs": [],
   "source": [
    "import pandas as pd\n",
    "from random import randint\n",
    "\n",
    "class Game:\n",
    "    '''A game consists of rolling of one or more dice of the same kind one or more times.'''\n",
    "\n",
    "    def __init__(self, weight, num_of_die, num_of_faces):\n",
    "        self.dice = [num_of_faces for _ in range(num_of_die)]\n",
    "        self.num_of_faces = num_of_faces\n",
    "        self.weight = weight\n",
    "        num_of_die = num_of_die\n",
    "        die_objects_df = pd.DataFrame()\n",
    "\n",
    "    def roll_die(self):\n",
    "        return randint(1, self.num_of_faces) #face rolled (die result of roll)\n",
    "        #self.face_counter = pd.DataFrame({'face':[], 'face_count':[]})       \n",
    "        \n",
    "    def roll_dice(self,n): \n",
    "        total_rolls = 0\n",
    "        for i in range(n):\n",
    "            total_rolls += self.roll_die()\n",
    "        return total_rolls\n",
    "        self.total_rolls=total_rolls\n",
    "        \n",
    "        num_of_die = self.dice\n",
    "        num_of_dice = len(num_of_die)\n",
    "        _die_objects_df = pd.DataFrame(index=range(num_of_dice),columns=range(total_rolls))\n",
    "        \n"
   ]
  },
  {
   "cell_type": "code",
   "execution_count": 282,
   "id": "0c454765-acb5-47df-befe-009935f15034",
   "metadata": {},
   "outputs": [],
   "source": [
    "from collections import Counter\n",
    "import pandas as pd\n",
    "\n",
    "class Analyzer:\n",
    "    '''An analyzer takes the results of a single game and computes various descriptive statistical properties \n",
    "    about it. These properties results are available as attributes of an Analyzer object.'''\n",
    "    \n",
    "    def __init__(self, num_of_sides):\n",
    "        self.num_of_sides = num_of_sides\n",
    "        self.face_counter = pd.DataFrame({'face':[], 'face_count':[]}) \n",
    "        self.jackpot_list = pd.DataFrame({\n",
    "            'face':[], \n",
    "            'Jackpot_Count':[]})\n",
    "        self.combination = pd.DataFrame({\n",
    "            'face':[], \n",
    "            'Face_Count':[]})\n",
    "        \n",
    "    def roll(self):\n",
    "        #self.rolled = randint(1, self.sides)\n",
    "        face = randint(1, self.num_of_sides) #face rolled (die result of roll)\n",
    "        #self.face_counter = pd.DataFrame({'face':[], 'face_count':[]}) \n",
    "\n",
    "    def roll_face_count(self, face, face_count):\n",
    "        \"Checks number of time a given face appears when rolled.\"\n",
    "        self.face = face\n",
    "        self.face_count = face_count\n",
    "        new_face_counter = self.combination \n",
    "        \n",
    "        #Check face and add 1 to count per roll\n",
    "        if self.has_counted(face, face_count):\n",
    "            self.face_counter = pd.replace({'face_count': [row_number]}, [new_face_count])\n",
    "        else:\n",
    "            self.face_counter = pd.concat([self.face_counter, new_face_counter], ignore_index=True)            \n",
    "            \n",
    "        \n",
    "        # Get the number of faces, and number to roll.\n",
    "    def get_init(self, num_of_sides, num_of_rolls):\n",
    "        self.num_of_sides = num_of_sides\n",
    "        self.num_of_rolls = num_of_rolls\n",
    "        THE_Counter = pd.DataFrame({'num_of_sides':[], 'num_of_rolls':[]}) \n",
    "            \n",
    "    def has_counted(self, face, face_count):\n",
    "        row_number = self.face_counter.loc[self.face_counter['face'] == face]\n",
    "        new_face_count = face_count + 1\n",
    "        #return (self.face_counter = pd.replace({'face_count': [row_number]}, [new_face_count])\n",
    "        \n",
    "\n",
    "\n",
    "\n",
    "        \n",
    "        \n",
    "    def jackpot(self, face, face_count=1):\n",
    "        \"how many times a roll resulted in all faces being the same, e.g. all one for a six-sided die\"\n",
    "        #current roll\n",
    "        global current_roll\n",
    "        current_roll = pd.DataFrame({\n",
    "            'face': [face], \n",
    "            'face_count': [face_count]\n",
    "        })\n",
    "        #record only when all faces are the same for a dice roll\n",
    "        face_distinction=current_roll.eq(current_roll.iloc[0, :], axis=0).any\n",
    "        if face_distinction == False:\n",
    "            return False\n",
    "        else:\n",
    "            self.jackpot_list = pd.concat([self.jackpot_list, current_roll], ignore_index=True)       \n",
    "        \n",
    "\n",
    " \n",
    "    \n",
    "            \n",
    "    def combination(self):\n",
    "        '''how many combination types of faces were rolled and their count'''\n",
    "        #create dataframes for types of faces were rolled and their count\n",
    "        df = pd.DataFrame({\"face_combination\":[], \"combination_count\":[]})\n",
    "        df2 = df.set_index(['Face 1','Face 2', 'Face 3','Face 4', 'Face 5','Face 6','Face 7'])\n",
    "        current_faces = current_roll['face']\n",
    "        if df2 == current_faces:\n",
    "            return False\n",
    "        else:\n",
    "            return df.append(current_faces)\n",
    "              \n",
    "\n",
    "        \n",
    "    \n",
    "    def all_face_counts(self):\n",
    "        all_face_counter = pd.concat(self.combination, current_roll)\n",
    "        "
   ]
  },
  {
   "cell_type": "markdown",
   "id": "24c692b6-0a45-4cb3-8837-381a36ed4a0a",
   "metadata": {},
   "source": [
    "Test Module"
   ]
  },
  {
   "cell_type": "code",
   "execution_count": 288,
   "id": "2f364036-b002-4e84-9222-cc12c7b0cede",
   "metadata": {},
   "outputs": [
    {
     "name": "stderr",
     "output_type": "stream",
     "text": [
      "......\n",
      "----------------------------------------------------------------------\n",
      "Ran 6 tests in 0.032s\n",
      "\n",
      "OK\n"
     ]
    }
   ],
   "source": [
    "#Test Die\n",
    "\n",
    "\n",
    "import unittest\n",
    "\n",
    "class DieTestSuite(unittest.TestCase):\n",
    "\n",
    "    def test_1_get_array(self):\n",
    "        die = Die(6, 1)\n",
    "        test_face = 3\n",
    "        test_weight = 2\n",
    "        die.change_weight(test_face, test_weight)\n",
    "        self.assertFalse(die.change_weight(test_face, test_weight))\n",
    "\n",
    "    def test_2_roll(self):\n",
    "        die = Die(6, 1)\n",
    "        self.assertTrue(die.roll())\n",
    "\n",
    "if __name__ == \"__main__\":\n",
    "    unittest.main(argv=['first-arg-is-ignored'], exit=False)"
   ]
  },
  {
   "cell_type": "code",
   "execution_count": 289,
   "id": "1863d8d8-3665-4565-a6a3-474ea66db5fd",
   "metadata": {},
   "outputs": [
    {
     "name": "stderr",
     "output_type": "stream",
     "text": [
      "......\n",
      "----------------------------------------------------------------------\n",
      "Ran 6 tests in 0.028s\n",
      "\n",
      "OK\n"
     ]
    }
   ],
   "source": [
    "#Test Game\n",
    "\n",
    "\n",
    "import unittest\n",
    "\n",
    "class GameTestSuite(unittest.TestCase):\n",
    "\n",
    "    def test_1_roll_dice(self):\n",
    "        game = Game(1, 2, 6)\n",
    "        test_number_of_rolls = 5\n",
    "        game.roll_dice(test_number_of_rolls)\n",
    "        self.assertTrue(game.roll_dice(test_number_of_rolls))\n",
    "\n",
    "\n",
    "\n",
    "\n",
    "\n",
    "if __name__ == '__main__':\n",
    "    unittest.main(argv=['first-arg-is-ignored'], exit=False)"
   ]
  },
  {
   "cell_type": "code",
   "execution_count": 286,
   "id": "072b4c22-dd43-4f92-b40f-e8f68efd6e63",
   "metadata": {},
   "outputs": [
    {
     "name": "stderr",
     "output_type": "stream",
     "text": [
      "......\n",
      "----------------------------------------------------------------------\n",
      "Ran 6 tests in 0.033s\n",
      "\n",
      "OK\n"
     ]
    }
   ],
   "source": [
    "#Test Analyzer\n",
    "\n",
    "\n",
    "import unittest\n",
    "\n",
    "class AnalyzerTestSuite(unittest.TestCase):\n",
    "\n",
    "    def test_1_get_face(self):\n",
    "        analyzer = Analyzer(6)\n",
    "        test_face = 5\n",
    "        analyzer.roll_face_count(analyzer, test_face)\n",
    "        self.assertFalse(analyzer.roll_face_count(analyzer, test_face))\n",
    "\n",
    "    def test_2_jackpot(self):\n",
    "        analyzer = Analyzer(6)\n",
    "        test_faces_up = [\n",
    "            (1),\n",
    "            (5),\n",
    "            (3),\n",
    "            (2),\n",
    "            (5),\n",
    "            (7)\n",
    "        ]\n",
    "        for faces in test_faces_up:\n",
    "            analyzer.jackpot(faces)\n",
    "            \n",
    "        self.assertTrue(test_faces_up, analyzer.jackpot(test_faces_up))\n",
    "\n",
    "    def test_3_combination(self):\n",
    "        analyzer = Analyzer(6)\n",
    "        #analyzer.combination()\n",
    "        #self.assertFalse(analyzer.combination())\n",
    "\n",
    "if __name__ == '__main__':\n",
    "    unittest.main(argv=['first-arg-is-ignored'], exit=False)"
   ]
  },
  {
   "cell_type": "code",
   "execution_count": 287,
   "id": "0b5c7635-7142-4dd4-bbb1-119da08aaefc",
   "metadata": {},
   "outputs": [
    {
     "ename": "SyntaxError",
     "evalue": "invalid syntax (1970089860.py, line 80)",
     "output_type": "error",
     "traceback": [
      "\u001b[0;36m  File \u001b[0;32m\"/var/folders/5j/pkdd38zd0xj7wqcxk5tm8pj40000gn/T/ipykernel_6995/1970089860.py\"\u001b[0;36m, line \u001b[0;32m80\u001b[0m\n\u001b[0;31m    return df = df.append(current_faces)\u001b[0m\n\u001b[0m              ^\u001b[0m\n\u001b[0;31mSyntaxError\u001b[0m\u001b[0;31m:\u001b[0m invalid syntax\n"
     ]
    }
   ],
   "source": []
  },
  {
   "cell_type": "markdown",
   "id": "b9dd9f92-65d0-4f4f-9b20-0a1935345433",
   "metadata": {},
   "source": [
    "Test Results"
   ]
  },
  {
   "cell_type": "code",
   "execution_count": null,
   "id": "9a7a851b-4076-4990-887f-7aa3680d6991",
   "metadata": {},
   "outputs": [],
   "source": []
  },
  {
   "cell_type": "markdown",
   "id": "aeece777-8f73-4c7e-bf97-f57763345501",
   "metadata": {},
   "source": [
    "Scenarios"
   ]
  },
  {
   "cell_type": "markdown",
   "id": "eafdcdc8-8725-429d-9869-1a20018c768d",
   "metadata": {},
   "source": [
    "Scenario 1"
   ]
  },
  {
   "cell_type": "code",
   "execution_count": 290,
   "id": "29a42f60-5455-4fea-81ff-f71a2270f75f",
   "metadata": {},
   "outputs": [],
   "source": [
    "#1.\n",
    "import random\n",
    "import string\n",
    "import pandas as pd\n",
    "from numpy.random import choice\n",
    "\n",
    "coin1=['H', 'T']\n",
    "coin2=['H', 'T']\n",
    "\n",
    "\n",
    "flip_coin1=choice(coin1)\n",
    "flip_coin2=choice(coin2, p=[0.833,0.167])\n",
    "\n"
   ]
  },
  {
   "cell_type": "code",
   "execution_count": 291,
   "id": "a286664a-272a-4ec8-8ba2-c09bb9565c12",
   "metadata": {},
   "outputs": [
    {
     "name": "stdout",
     "output_type": "stream",
     "text": [
      "      0  1\n",
      "0     H  H\n",
      "0     H  H\n",
      "1     T  T\n",
      "0     H  H\n",
      "1     T  T\n",
      "...  .. ..\n",
      "996   H  T\n",
      "997   T  T\n",
      "998   H  T\n",
      "999   H  T\n",
      "1000  T  H\n",
      "\n",
      "[501501 rows x 2 columns]\n"
     ]
    }
   ],
   "source": [
    "#2\n",
    "\n",
    "coin1=['H', 'T']\n",
    "coin2=['H', 'T']\n",
    "\n",
    "N=[]\n",
    "df = pd.DataFrame()\n",
    "for i in range(1001):\n",
    "    flip_coin1=choice(coin1)\n",
    "    flip_coin2=choice(coin2)\n",
    "    present_roll = [flip_coin1, flip_coin2]\n",
    "    N.append(present_roll)\n",
    "    df = df.append(N)\n",
    "    #print(df)\n",
    "\n",
    "\n",
    "print(df)"
   ]
  },
  {
   "cell_type": "code",
   "execution_count": null,
   "id": "8f2a8340-0e11-4903-a848-552841e4ae6f",
   "metadata": {},
   "outputs": [],
   "source": [
    "import unittest\n",
    "\n",
    "class AnalyzerTestSuite(unittest.TestCase):\n",
    "\n",
    "    def 1_jackpot(self):\n",
    "        analyzer = Analyzer(2)\n",
    "        test_faces_up = [df]\n",
    "        for faces in test_faces_up:\n",
    "            analyzer.jackpot(faces)\n",
    "            \n",
    "        self.assertTrue(test_faces_up, analyzer.jackpot(test_faces_up))"
   ]
  },
  {
   "cell_type": "markdown",
   "id": "b9ccb884-462d-4da0-aec6-967a57d9e38e",
   "metadata": {},
   "source": [
    "Scenario 2"
   ]
  },
  {
   "cell_type": "code",
   "execution_count": 292,
   "id": "31d26490-df38-4280-8baf-2732a4b7e37d",
   "metadata": {},
   "outputs": [
    {
     "name": "stdout",
     "output_type": "stream",
     "text": [
      "      0  1  2\n",
      "0     4  2  1\n",
      "0     4  2  1\n",
      "1     6  6  4\n",
      "0     4  2  1\n",
      "1     6  6  4\n",
      "...  .. .. ..\n",
      "996   2  6  1\n",
      "997   2  6  6\n",
      "998   2  6  2\n",
      "999   6  4  4\n",
      "1000  2  1  1\n",
      "\n",
      "[501501 rows x 3 columns]\n"
     ]
    }
   ],
   "source": [
    "#1.\n",
    "import random\n",
    "import string\n",
    "import pandas as pd\n",
    "from numpy.random import choice\n",
    "\n",
    "die1=[1,2,3,4,5,6]\n",
    "type1_die=[1,2,3,4,5,6]\n",
    "type2_die=[1,2,3,4,5,6]\n",
    "\n",
    "H = []\n",
    "df = pd.DataFrame()\n",
    "for i in range(1001):\n",
    "    roll_die1=choice(die1)\n",
    "    roll_die2=choice(type1_die, p=[0.1,0.1,0.1,0.1,0.1,0.5])\n",
    "    roll_die3=choice(type2_die, p=[0.5,0.1,0.1,0.1,0.1,0.1])\n",
    "    present_roll = [roll_die1, roll_die2, roll_die3]\n",
    "    H.append(present_roll)\n",
    "    df = df.append(H)\n",
    "    #print(df)\n",
    "\n",
    "\n",
    "print(df)\n"
   ]
  },
  {
   "cell_type": "code",
   "execution_count": null,
   "id": "01c3f53c-bfdf-4761-a368-aed9f6551486",
   "metadata": {},
   "outputs": [],
   "source": [
    "#2.\n",
    "die1=[1,2,3,4,5,6]\n",
    "die2=[1,2,3,4,5,6]\n",
    "die3=[1,2,3,4,5,6]\n",
    "die4=[1,2,3,4,5,6]\n",
    "die5=[1,2,3,4,5,6]\n",
    "\n",
    "K = []\n",
    "df = pd.DataFrame()\n",
    "for i in range(10001):\n",
    "    roll_die1=choice(die1)\n",
    "    roll_die2=choice(die2)\n",
    "    roll_die3=choice(die3)\n",
    "    roll_die4=choice(die4)\n",
    "    roll_die5=choice(die5)\n",
    "    present_roll = [roll_die1, roll_die2, roll_die3, roll_die4, roll_die5]\n",
    "    K.append(present_roll)\n",
    "    df = df.append(K)\n",
    "    #print(df)\n",
    "\n",
    "\n",
    "print(df)\n",
    "    "
   ]
  },
  {
   "cell_type": "code",
   "execution_count": null,
   "id": "31fd2f3e-1ca5-4dfe-9468-69440d8aed6b",
   "metadata": {},
   "outputs": [],
   "source": [
    "3.\n",
    "type1_die1=[1,2,3,4,5,6]\n",
    "type1_die2=[1,2,3,4,5,6]\n",
    "type2_die=[1,2,3,4,5,6]\n",
    "die4=[1,2,3,4,5,6]\n",
    "die5=[1,2,3,4,5,6]\n",
    "\n",
    "O = []\n",
    "df = pd.DataFrame()\n",
    "for i in range(1001):\n",
    "    roll_die1=choice(type1_die1, p=[0.1,0.1,0.1,0.1,0.1,0.5])\n",
    "    roll_die2=choice(type1_die2, p=[0.1,0.1,0.1,0.1,0.1,0.5])\n",
    "    roll_die3=choice(type2_die, p=[0.5,0.1,0.1,0.1,0.1,0.1])\n",
    "    roll_die4=choice(die4)\n",
    "    roll_die5=choice(die5)\n",
    "    present_roll = [roll_die1, roll_die2, roll_die3, roll_die4, roll_die5]\n",
    "    O.append(present_roll)\n",
    "    df = df.append(O)\n",
    "    #print(df)\n",
    "\n",
    "\n",
    "print(df)"
   ]
  },
  {
   "cell_type": "code",
   "execution_count": null,
   "id": "682dc517-8e3e-4564-a0f7-7940ba6c0e95",
   "metadata": {},
   "outputs": [],
   "source": []
  },
  {
   "cell_type": "code",
   "execution_count": 73,
   "id": "d591b76c-6608-4fbc-8eac-49f49c6ff54d",
   "metadata": {},
   "outputs": [
    {
     "ename": "TypeError",
     "evalue": "cannot concatenate object of type '<class 'int'>'; only Series and DataFrame objs are valid",
     "output_type": "error",
     "traceback": [
      "\u001b[0;31m---------------------------------------------------------------------------\u001b[0m",
      "\u001b[0;31mTypeError\u001b[0m                                 Traceback (most recent call last)",
      "\u001b[0;32m/var/folders/5j/pkdd38zd0xj7wqcxk5tm8pj40000gn/T/ipykernel_4441/3387565730.py\u001b[0m in \u001b[0;36m<module>\u001b[0;34m\u001b[0m\n\u001b[0;32m----> 1\u001b[0;31m \u001b[0mAnalyzer\u001b[0m\u001b[0;34m.\u001b[0m\u001b[0mjackpot\u001b[0m\u001b[0;34m(\u001b[0m\u001b[0;34m[\u001b[0m\u001b[0;36m5\u001b[0m\u001b[0;34m,\u001b[0m\u001b[0;36m6\u001b[0m\u001b[0;34m,\u001b[0m\u001b[0;36m7\u001b[0m\u001b[0;34m]\u001b[0m\u001b[0;34m)\u001b[0m\u001b[0;34m\u001b[0m\u001b[0;34m\u001b[0m\u001b[0m\n\u001b[0m",
      "\u001b[0;32m/var/folders/5j/pkdd38zd0xj7wqcxk5tm8pj40000gn/T/ipykernel_4441/2760302334.py\u001b[0m in \u001b[0;36mjackpot\u001b[0;34m(self)\u001b[0m\n\u001b[1;32m     33\u001b[0m             \u001b[0mjackpotdf\u001b[0m\u001b[0;34m.\u001b[0m\u001b[0mappend\u001b[0m\u001b[0;34m(\u001b[0m\u001b[0;36m1\u001b[0m\u001b[0;34m)\u001b[0m\u001b[0;34m\u001b[0m\u001b[0;34m\u001b[0m\u001b[0m\n\u001b[1;32m     34\u001b[0m         \u001b[0;32melif\u001b[0m \u001b[0mset\u001b[0m\u001b[0;34m(\u001b[0m\u001b[0mfaces_list\u001b[0m\u001b[0;34m)\u001b[0m \u001b[0;34m!=\u001b[0m \u001b[0;36m1\u001b[0m\u001b[0;34m:\u001b[0m\u001b[0;34m\u001b[0m\u001b[0;34m\u001b[0m\u001b[0m\n\u001b[0;32m---> 35\u001b[0;31m                 \u001b[0mjackpotdf\u001b[0m\u001b[0;34m.\u001b[0m\u001b[0mappend\u001b[0m\u001b[0;34m(\u001b[0m\u001b[0;36m0\u001b[0m\u001b[0;34m)\u001b[0m\u001b[0;34m\u001b[0m\u001b[0;34m\u001b[0m\u001b[0m\n\u001b[0m\u001b[1;32m     36\u001b[0m \u001b[0;34m\u001b[0m\u001b[0m\n\u001b[1;32m     37\u001b[0m \u001b[0;34m\u001b[0m\u001b[0m\n",
      "\u001b[0;32m~/opt/anaconda3/lib/python3.9/site-packages/pandas/core/frame.py\u001b[0m in \u001b[0;36mappend\u001b[0;34m(self, other, ignore_index, verify_integrity, sort)\u001b[0m\n\u001b[1;32m   8963\u001b[0m             \u001b[0mto_concat\u001b[0m \u001b[0;34m=\u001b[0m \u001b[0;34m[\u001b[0m\u001b[0mself\u001b[0m\u001b[0;34m,\u001b[0m \u001b[0mother\u001b[0m\u001b[0;34m]\u001b[0m\u001b[0;34m\u001b[0m\u001b[0;34m\u001b[0m\u001b[0m\n\u001b[1;32m   8964\u001b[0m         return (\n\u001b[0;32m-> 8965\u001b[0;31m             concat(\n\u001b[0m\u001b[1;32m   8966\u001b[0m                 \u001b[0mto_concat\u001b[0m\u001b[0;34m,\u001b[0m\u001b[0;34m\u001b[0m\u001b[0;34m\u001b[0m\u001b[0m\n\u001b[1;32m   8967\u001b[0m                 \u001b[0mignore_index\u001b[0m\u001b[0;34m=\u001b[0m\u001b[0mignore_index\u001b[0m\u001b[0;34m,\u001b[0m\u001b[0;34m\u001b[0m\u001b[0;34m\u001b[0m\u001b[0m\n",
      "\u001b[0;32m~/opt/anaconda3/lib/python3.9/site-packages/pandas/util/_decorators.py\u001b[0m in \u001b[0;36mwrapper\u001b[0;34m(*args, **kwargs)\u001b[0m\n\u001b[1;32m    309\u001b[0m                     \u001b[0mstacklevel\u001b[0m\u001b[0;34m=\u001b[0m\u001b[0mstacklevel\u001b[0m\u001b[0;34m,\u001b[0m\u001b[0;34m\u001b[0m\u001b[0;34m\u001b[0m\u001b[0m\n\u001b[1;32m    310\u001b[0m                 )\n\u001b[0;32m--> 311\u001b[0;31m             \u001b[0;32mreturn\u001b[0m \u001b[0mfunc\u001b[0m\u001b[0;34m(\u001b[0m\u001b[0;34m*\u001b[0m\u001b[0margs\u001b[0m\u001b[0;34m,\u001b[0m \u001b[0;34m**\u001b[0m\u001b[0mkwargs\u001b[0m\u001b[0;34m)\u001b[0m\u001b[0;34m\u001b[0m\u001b[0;34m\u001b[0m\u001b[0m\n\u001b[0m\u001b[1;32m    312\u001b[0m \u001b[0;34m\u001b[0m\u001b[0m\n\u001b[1;32m    313\u001b[0m         \u001b[0;32mreturn\u001b[0m \u001b[0mwrapper\u001b[0m\u001b[0;34m\u001b[0m\u001b[0;34m\u001b[0m\u001b[0m\n",
      "\u001b[0;32m~/opt/anaconda3/lib/python3.9/site-packages/pandas/core/reshape/concat.py\u001b[0m in \u001b[0;36mconcat\u001b[0;34m(objs, axis, join, ignore_index, keys, levels, names, verify_integrity, sort, copy)\u001b[0m\n\u001b[1;32m    292\u001b[0m     \u001b[0mValueError\u001b[0m\u001b[0;34m:\u001b[0m \u001b[0mIndexes\u001b[0m \u001b[0mhave\u001b[0m \u001b[0moverlapping\u001b[0m \u001b[0mvalues\u001b[0m\u001b[0;34m:\u001b[0m \u001b[0;34m[\u001b[0m\u001b[0;34m'a'\u001b[0m\u001b[0;34m]\u001b[0m\u001b[0;34m\u001b[0m\u001b[0;34m\u001b[0m\u001b[0m\n\u001b[1;32m    293\u001b[0m     \"\"\"\n\u001b[0;32m--> 294\u001b[0;31m     op = _Concatenator(\n\u001b[0m\u001b[1;32m    295\u001b[0m         \u001b[0mobjs\u001b[0m\u001b[0;34m,\u001b[0m\u001b[0;34m\u001b[0m\u001b[0;34m\u001b[0m\u001b[0m\n\u001b[1;32m    296\u001b[0m         \u001b[0maxis\u001b[0m\u001b[0;34m=\u001b[0m\u001b[0maxis\u001b[0m\u001b[0;34m,\u001b[0m\u001b[0;34m\u001b[0m\u001b[0;34m\u001b[0m\u001b[0m\n",
      "\u001b[0;32m~/opt/anaconda3/lib/python3.9/site-packages/pandas/core/reshape/concat.py\u001b[0m in \u001b[0;36m__init__\u001b[0;34m(self, objs, axis, join, keys, levels, names, ignore_index, verify_integrity, copy, sort)\u001b[0m\n\u001b[1;32m    382\u001b[0m                     \u001b[0;34m\"only Series and DataFrame objs are valid\"\u001b[0m\u001b[0;34m\u001b[0m\u001b[0;34m\u001b[0m\u001b[0m\n\u001b[1;32m    383\u001b[0m                 )\n\u001b[0;32m--> 384\u001b[0;31m                 \u001b[0;32mraise\u001b[0m \u001b[0mTypeError\u001b[0m\u001b[0;34m(\u001b[0m\u001b[0mmsg\u001b[0m\u001b[0;34m)\u001b[0m\u001b[0;34m\u001b[0m\u001b[0;34m\u001b[0m\u001b[0m\n\u001b[0m\u001b[1;32m    385\u001b[0m \u001b[0;34m\u001b[0m\u001b[0m\n\u001b[1;32m    386\u001b[0m             \u001b[0mndims\u001b[0m\u001b[0;34m.\u001b[0m\u001b[0madd\u001b[0m\u001b[0;34m(\u001b[0m\u001b[0mobj\u001b[0m\u001b[0;34m.\u001b[0m\u001b[0mndim\u001b[0m\u001b[0;34m)\u001b[0m\u001b[0;34m\u001b[0m\u001b[0;34m\u001b[0m\u001b[0m\n",
      "\u001b[0;31mTypeError\u001b[0m: cannot concatenate object of type '<class 'int'>'; only Series and DataFrame objs are valid"
     ]
    }
   ],
   "source": [
    "Analyzer.jackpot([5,6,7])"
   ]
  },
  {
   "cell_type": "code",
   "execution_count": null,
   "id": "c000c8d7-4a26-4caa-9b72-472540ecaba3",
   "metadata": {},
   "outputs": [],
   "source": []
  },
  {
   "cell_type": "markdown",
   "id": "ed49fd17-96ac-49b4-8739-9b0ebc16ceb0",
   "metadata": {},
   "source": [
    "Scenario 3"
   ]
  },
  {
   "cell_type": "code",
   "execution_count": null,
   "id": "b95e5646-6dcf-48d6-9725-93c3072f8a94",
   "metadata": {},
   "outputs": [],
   "source": [
    "import random\n",
    "import string\n",
    "import pandas as pd\n",
    "from numpy.random import choice\n",
    " \n",
    "\n",
    "alphabet = []\n",
    "for i in range(97, 123):\n",
    "    alphabet.append(chr(i))\n",
    "\n",
    "#randomNumberList = choice(\n",
    "  #sampleList, 5, p=[0.05, 0.1, 0.15, 0.20, 0.5]) \n",
    "    \n",
    "L = []\n",
    "df = pd.DataFrame()\n",
    "for i in range(10):\n",
    "    currentRoll = choice(\n",
    "  alphabet, 5, p=[0.0812, 0.0149, 0.0271, 0.0432,\n",
    "                    0.1202, 0.023, 0.0203, 0.0592, \n",
    "                    0.0731, 0.001, 0.0070, 0.0398,\n",
    "                   0.0261, 0.0695, 0.0768, 0.0182, \n",
    "                   0.0011, 0.0602, 0.0628, 0.091, \n",
    "                   0.0288, 0.0111, 0.0209, 0.0017, \n",
    "                   0.0211, 0.0007])\n",
    "    L.append(currentRoll)\n",
    "    df = df.append(L)\n",
    "    #print(df)\n",
    "\n",
    "\n",
    "print(df)"
   ]
  },
  {
   "cell_type": "markdown",
   "id": "481f85bc-5941-451d-b954-ca0c318c28e8",
   "metadata": {},
   "source": [
    "There don't seem to be very many-if any-actual English words in the resulting sequence. (This is based on each 5 letter combo, if one looks for 1-letter/2 letter words in the mix, there are more e.g. 'a', 'oh', 'ad')"
   ]
  },
  {
   "cell_type": "code",
   "execution_count": 3,
   "id": "5ffffaa7-8111-4c65-a614-dd7039c16293",
   "metadata": {},
   "outputs": [
    {
     "name": "stdout",
     "output_type": "stream",
     "text": [
      "total 200\n",
      "-rw-r--r--  1 aryal  20087 Aug 15 20:45 DATA 5100 Final Project.ipynb\n",
      "-rw-r--r--@ 1 aryal  64546 May  5 23:39 DATA 5100 Final Project.pdf\n",
      "-rw-r--r--  1 aryal   9305 Aug 15 20:43 Final Scenarios.ipynb\n",
      "-rw-r--r--  1 aryal      0 Aug 15 20:50 Unit_Tests.py\n",
      "-rw-r--r--  1 aryal   3804 Aug 12 03:06 montecarlo.py\n"
     ]
    }
   ],
   "source": [
    "!ls -lRF -o"
   ]
  },
  {
   "cell_type": "code",
   "execution_count": null,
   "id": "babd6733-537e-4232-8da4-7f2f6380328d",
   "metadata": {},
   "outputs": [],
   "source": []
  }
 ],
 "metadata": {
  "kernelspec": {
   "display_name": "Python 3 (ipykernel)",
   "language": "python",
   "name": "python3"
  },
  "language_info": {
   "codemirror_mode": {
    "name": "ipython",
    "version": 3
   },
   "file_extension": ".py",
   "mimetype": "text/x-python",
   "name": "python",
   "nbconvert_exporter": "python",
   "pygments_lexer": "ipython3",
   "version": "3.9.7"
  }
 },
 "nbformat": 4,
 "nbformat_minor": 5
}
