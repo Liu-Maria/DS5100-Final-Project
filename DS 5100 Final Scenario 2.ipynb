{
 "cells": [
  {
   "cell_type": "markdown",
   "id": "5419ff6b-49a7-4769-a09a-a1f574793f65",
   "metadata": {},
   "source": [
    "Scenario 1\n",
    "\n",
    "\n",
    "\n"
   ]
  },
  {
   "cell_type": "code",
   "execution_count": 5,
   "id": "4a073f82-0b2d-44cd-9dea-b64d69109029",
   "metadata": {},
   "outputs": [],
   "source": [
    "!python montecarlo.py"
   ]
  },
  {
   "cell_type": "code",
   "execution_count": null,
   "id": "f0208c2e-0c7d-46c1-845a-b91b72a02988",
   "metadata": {},
   "outputs": [],
   "source": []
  },
  {
   "cell_type": "markdown",
   "id": "5397668d-33ee-4d98-8d97-95cc95ac17ba",
   "metadata": {},
   "source": [
    "Scenario 2"
   ]
  },
  {
   "cell_type": "code",
   "execution_count": 2,
   "id": "71cdc34e-572a-4fe9-8af9-830e28d0c8ae",
   "metadata": {},
   "outputs": [
    {
     "name": "stdout",
     "output_type": "stream",
     "text": [
      "      0  1  2\n",
      "0     2  6  1\n",
      "0     2  6  1\n",
      "1     1  6  5\n",
      "0     2  6  1\n",
      "1     1  6  5\n",
      "...  .. .. ..\n",
      "996   5  5  3\n",
      "997   2  5  1\n",
      "998   3  1  4\n",
      "999   4  4  1\n",
      "1000  2  6  1\n",
      "\n",
      "[501501 rows x 3 columns]\n"
     ]
    }
   ],
   "source": [
    "#1.\n",
    "import random\n",
    "import string\n",
    "import pandas as pd\n",
    "from numpy.random import choice\n",
    "\n",
    "die1=[1,2,3,4,5,6]\n",
    "type1_die=[1,2,3,4,5,6]\n",
    "type2_die=[1,2,3,4,5,6]\n",
    "\n",
    "H = []\n",
    "df = pd.DataFrame()\n",
    "for i in range(1001):\n",
    "    roll_die1=choice(die1)\n",
    "    roll_die2=choice(type1_die, p=[0.1,0.1,0.1,0.1,0.1,0.5])\n",
    "    roll_die3=choice(type2_die, p=[0.5,0.1,0.1,0.1,0.1,0.1])\n",
    "    present_roll = [roll_die1, roll_die2, roll_die3]\n",
    "    H.append(present_roll)\n",
    "    df = df.append(H)\n",
    "    #print(df)\n",
    "\n",
    "\n",
    "print(df)\n",
    "\n"
   ]
  },
  {
   "cell_type": "code",
   "execution_count": 3,
   "id": "6f3debc7-6942-425d-82bf-26892b838283",
   "metadata": {},
   "outputs": [
    {
     "name": "stdout",
     "output_type": "stream",
     "text": [
      "      0  1  2  3  4\n",
      "0     5  2  1  5  4\n",
      "0     5  2  1  5  4\n",
      "1     3  2  2  6  6\n",
      "0     5  2  1  5  4\n",
      "1     3  2  2  6  6\n",
      "...  .. .. .. .. ..\n",
      "996   5  4  3  2  4\n",
      "997   6  5  6  5  3\n",
      "998   3  6  2  1  4\n",
      "999   5  1  2  1  6\n",
      "1000  6  5  5  2  4\n",
      "\n",
      "[501501 rows x 5 columns]\n"
     ]
    }
   ],
   "source": [
    "#2.\n",
    "die1=[1,2,3,4,5,6]\n",
    "die2=[1,2,3,4,5,6]\n",
    "die3=[1,2,3,4,5,6]\n",
    "die4=[1,2,3,4,5,6]\n",
    "die5=[1,2,3,4,5,6]\n",
    "\n",
    "K = []\n",
    "df = pd.DataFrame()\n",
    "for i in range(1001):\n",
    "    roll_die1=choice(die1)\n",
    "    roll_die2=choice(die2)\n",
    "    roll_die3=choice(die3)\n",
    "    roll_die4=choice(die4)\n",
    "    roll_die5=choice(die5)\n",
    "    present_roll = [roll_die1, roll_die2, roll_die3, roll_die4, roll_die5]\n",
    "    K.append(present_roll)\n",
    "    df = df.append(K)\n",
    "    #print(df)\n",
    "\n",
    "\n",
    "print(df)\n",
    "    "
   ]
  },
  {
   "cell_type": "code",
   "execution_count": 10,
   "id": "98ffce1b-20c3-4149-866a-76646aa795af",
   "metadata": {},
   "outputs": [
    {
     "name": "stdout",
     "output_type": "stream",
     "text": [
      "      0  1  2  3  4\n",
      "0     6  1  3  5  4\n",
      "0     6  1  3  5  4\n",
      "1     4  5  1  3  3\n",
      "0     6  1  3  5  4\n",
      "1     4  5  1  3  3\n",
      "...  .. .. .. .. ..\n",
      "996   6  4  1  3  5\n",
      "997   6  1  1  6  1\n",
      "998   3  6  5  1  3\n",
      "999   2  6  1  3  4\n",
      "1000  6  6  1  3  2\n",
      "\n",
      "[501501 rows x 5 columns]\n"
     ]
    }
   ],
   "source": [
    "3.\n",
    "type1_die1=[1,2,3,4,5,6]\n",
    "type1_die2=[1,2,3,4,5,6]\n",
    "type2_die=[1,2,3,4,5,6]\n",
    "die4=[1,2,3,4,5,6]\n",
    "die5=[1,2,3,4,5,6]\n",
    "\n",
    "O = []\n",
    "df = pd.DataFrame()\n",
    "for i in range(1001):\n",
    "    roll_die1=choice(type1_die1, p=[0.1,0.1,0.1,0.1,0.1,0.5])\n",
    "    roll_die2=choice(type1_die2, p=[0.1,0.1,0.1,0.1,0.1,0.5])\n",
    "    roll_die3=choice(type2_die, p=[0.5,0.1,0.1,0.1,0.1,0.1])\n",
    "    roll_die4=choice(die4)\n",
    "    roll_die5=choice(die5)\n",
    "    present_roll = [roll_die1, roll_die2, roll_die3, roll_die4, roll_die5]\n",
    "    O.append(present_roll)\n",
    "    df = df.append(O)\n",
    "    #print(df)\n",
    "\n",
    "\n",
    "print(df)"
   ]
  },
  {
   "cell_type": "code",
   "execution_count": null,
   "id": "b7ac39ba-2fb6-47ab-a55f-108527fac077",
   "metadata": {},
   "outputs": [],
   "source": []
  },
  {
   "cell_type": "markdown",
   "id": "e70f5374-0e74-40eb-80e3-99e74346577a",
   "metadata": {},
   "source": [
    "Scenario 3"
   ]
  },
  {
   "cell_type": "markdown",
   "id": "421cfa64-3419-4078-a1ca-45b14e31dbf3",
   "metadata": {},
   "source": [
    "There don't seem to be very many-if any-actual English words in the resulting sequence. (This is based on each 5 letter combo, if one looks for 1-letter/2 letter words in the mix, there are more e.g. 'a', 'oh', 'ad')"
   ]
  },
  {
   "cell_type": "code",
   "execution_count": null,
   "id": "725c7565-6837-4c90-bb1f-535dca2f2bd8",
   "metadata": {},
   "outputs": [],
   "source": []
  },
  {
   "cell_type": "code",
   "execution_count": null,
   "id": "da478a18-c48b-4285-802d-9e44fa82b372",
   "metadata": {},
   "outputs": [],
   "source": []
  }
 ],
 "metadata": {
  "kernelspec": {
   "display_name": "Python 3 (ipykernel)",
   "language": "python",
   "name": "python3"
  },
  "language_info": {
   "codemirror_mode": {
    "name": "ipython",
    "version": 3
   },
   "file_extension": ".py",
   "mimetype": "text/x-python",
   "name": "python",
   "nbconvert_exporter": "python",
   "pygments_lexer": "ipython3",
   "version": "3.9.7"
  }
 },
 "nbformat": 4,
 "nbformat_minor": 5
}
