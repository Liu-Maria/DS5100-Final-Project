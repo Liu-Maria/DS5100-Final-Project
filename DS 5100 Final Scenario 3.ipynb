{
 "cells": [
  {
   "cell_type": "markdown",
   "id": "5419ff6b-49a7-4769-a09a-a1f574793f65",
   "metadata": {},
   "source": [
    "Scenario 1\n",
    "\n",
    "\n",
    "\n"
   ]
  },
  {
   "cell_type": "code",
   "execution_count": 5,
   "id": "4a073f82-0b2d-44cd-9dea-b64d69109029",
   "metadata": {},
   "outputs": [],
   "source": [
    "!python montecarlo.py"
   ]
  },
  {
   "cell_type": "code",
   "execution_count": null,
   "id": "f0208c2e-0c7d-46c1-845a-b91b72a02988",
   "metadata": {},
   "outputs": [],
   "source": []
  },
  {
   "cell_type": "markdown",
   "id": "5397668d-33ee-4d98-8d97-95cc95ac17ba",
   "metadata": {},
   "source": [
    "Scenario 2"
   ]
  },
  {
   "cell_type": "code",
   "execution_count": null,
   "id": "b7ac39ba-2fb6-47ab-a55f-108527fac077",
   "metadata": {},
   "outputs": [],
   "source": []
  },
  {
   "cell_type": "markdown",
   "id": "e70f5374-0e74-40eb-80e3-99e74346577a",
   "metadata": {},
   "source": [
    "Scenario 3"
   ]
  },
  {
   "cell_type": "code",
   "execution_count": 1,
   "id": "99878805-6392-4a42-b467-1597cbbb2f93",
   "metadata": {},
   "outputs": [
    {
     "name": "stdout",
     "output_type": "stream",
     "text": [
      "   0  1  2  3  4\n",
      "0  h  h  l  u  h\n",
      "0  h  h  l  u  h\n",
      "1  e  h  w  t  r\n",
      "0  h  h  l  u  h\n",
      "1  e  h  w  t  r\n",
      "2  a  n  p  c  n\n",
      "0  h  h  l  u  h\n",
      "1  e  h  w  t  r\n",
      "2  a  n  p  c  n\n",
      "3  e  o  c  p  i\n",
      "0  h  h  l  u  h\n",
      "1  e  h  w  t  r\n",
      "2  a  n  p  c  n\n",
      "3  e  o  c  p  i\n",
      "4  l  c  t  s  n\n",
      "0  h  h  l  u  h\n",
      "1  e  h  w  t  r\n",
      "2  a  n  p  c  n\n",
      "3  e  o  c  p  i\n",
      "4  l  c  t  s  n\n",
      "5  t  o  e  w  l\n",
      "0  h  h  l  u  h\n",
      "1  e  h  w  t  r\n",
      "2  a  n  p  c  n\n",
      "3  e  o  c  p  i\n",
      "4  l  c  t  s  n\n",
      "5  t  o  e  w  l\n",
      "6  w  o  s  r  e\n",
      "0  h  h  l  u  h\n",
      "1  e  h  w  t  r\n",
      "2  a  n  p  c  n\n",
      "3  e  o  c  p  i\n",
      "4  l  c  t  s  n\n",
      "5  t  o  e  w  l\n",
      "6  w  o  s  r  e\n",
      "7  d  t  r  o  h\n",
      "0  h  h  l  u  h\n",
      "1  e  h  w  t  r\n",
      "2  a  n  p  c  n\n",
      "3  e  o  c  p  i\n",
      "4  l  c  t  s  n\n",
      "5  t  o  e  w  l\n",
      "6  w  o  s  r  e\n",
      "7  d  t  r  o  h\n",
      "8  b  z  f  p  g\n",
      "0  h  h  l  u  h\n",
      "1  e  h  w  t  r\n",
      "2  a  n  p  c  n\n",
      "3  e  o  c  p  i\n",
      "4  l  c  t  s  n\n",
      "5  t  o  e  w  l\n",
      "6  w  o  s  r  e\n",
      "7  d  t  r  o  h\n",
      "8  b  z  f  p  g\n",
      "9  n  r  e  r  m\n"
     ]
    }
   ],
   "source": [
    "import random\n",
    "import string\n",
    "import pandas as pd\n",
    "from numpy.random import choice\n",
    " \n",
    "\n",
    "alphabet = []\n",
    "for i in range(97, 123):\n",
    "    alphabet.append(chr(i))\n",
    "\n",
    "#randomNumberList = choice(\n",
    "  #sampleList, 5, p=[0.05, 0.1, 0.15, 0.20, 0.5]) \n",
    "    \n",
    "L = []\n",
    "df = pd.DataFrame()\n",
    "for i in range(10):\n",
    "    currentRoll = choice(\n",
    "  alphabet, 5, p=[0.0812, 0.0149, 0.0271, 0.0432,\n",
    "                    0.1202, 0.023, 0.0203, 0.0592, \n",
    "                    0.0731, 0.001, 0.0070, 0.0398,\n",
    "                   0.0261, 0.0695, 0.0768, 0.0182, \n",
    "                   0.0011, 0.0602, 0.0628, 0.091, \n",
    "                   0.0288, 0.0111, 0.0209, 0.0017, \n",
    "                   0.0211, 0.0007])\n",
    "    L.append(currentRoll)\n",
    "    df = df.append(L)\n",
    "    #print(df)\n",
    "\n",
    "\n",
    "print(df)"
   ]
  },
  {
   "cell_type": "markdown",
   "id": "421cfa64-3419-4078-a1ca-45b14e31dbf3",
   "metadata": {},
   "source": [
    "There don't seem to be very many-if any-actual English words in the resulting sequence. (This is based on each 5 letter combo, if one looks for 1-letter/2 letter words in the mix, there are more e.g. 'a', 'oh', 'ad')"
   ]
  },
  {
   "cell_type": "code",
   "execution_count": null,
   "id": "725c7565-6837-4c90-bb1f-535dca2f2bd8",
   "metadata": {},
   "outputs": [],
   "source": []
  },
  {
   "cell_type": "code",
   "execution_count": null,
   "id": "da478a18-c48b-4285-802d-9e44fa82b372",
   "metadata": {},
   "outputs": [],
   "source": []
  }
 ],
 "metadata": {
  "kernelspec": {
   "display_name": "Python 3 (ipykernel)",
   "language": "python",
   "name": "python3"
  },
  "language_info": {
   "codemirror_mode": {
    "name": "ipython",
    "version": 3
   },
   "file_extension": ".py",
   "mimetype": "text/x-python",
   "name": "python",
   "nbconvert_exporter": "python",
   "pygments_lexer": "ipython3",
   "version": "3.9.7"
  }
 },
 "nbformat": 4,
 "nbformat_minor": 5
}
