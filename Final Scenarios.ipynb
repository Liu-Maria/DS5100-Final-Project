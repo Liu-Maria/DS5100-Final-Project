{
 "cells": [
  {
   "cell_type": "markdown",
   "id": "5419ff6b-49a7-4769-a09a-a1f574793f65",
   "metadata": {},
   "source": [
    "Scenario 1\n",
    "\n",
    "\n",
    "\n"
   ]
  },
  {
   "cell_type": "code",
   "execution_count": 5,
   "id": "904110dc-0272-468f-9b25-218abd50ce69",
   "metadata": {},
   "outputs": [],
   "source": [
    "#1.\n",
    "import random\n",
    "import string\n",
    "import pandas as pd\n",
    "from numpy.random import choice\n",
    "\n",
    "coin1=['H', 'T']\n",
    "coin2=['H', 'T']\n",
    "\n",
    "\n",
    "flip_coin1=choice(coin1)\n",
    "flip_coin2=choice(coin2, p=[0.833,0.167])\n"
   ]
  },
  {
   "cell_type": "code",
   "execution_count": 4,
   "id": "b77972da-6d36-4f9a-adae-ce028992369f",
   "metadata": {},
   "outputs": [
    {
     "name": "stdout",
     "output_type": "stream",
     "text": [
      "      0  1\n",
      "0     T  T\n",
      "0     T  T\n",
      "1     H  H\n",
      "0     T  T\n",
      "1     H  H\n",
      "...  .. ..\n",
      "996   H  T\n",
      "997   H  H\n",
      "998   H  T\n",
      "999   T  H\n",
      "1000  H  T\n",
      "\n",
      "[501501 rows x 2 columns]\n"
     ]
    }
   ],
   "source": [
    "#2\n",
    "\n",
    "coin1=['H', 'T']\n",
    "coin2=['H', 'T']\n",
    "\n",
    "N=[]\n",
    "df = pd.DataFrame()\n",
    "for i in range(1001):\n",
    "    flip_coin1=choice(coin1)\n",
    "    flip_coin2=choice(coin2)\n",
    "    present_roll = [flip_coin1, flip_coin2]\n",
    "    N.append(present_roll)\n",
    "    df = df.append(N)\n",
    "    #print(df)\n",
    "\n",
    "\n",
    "print(df)"
   ]
  },
  {
   "cell_type": "code",
   "execution_count": 9,
   "id": "255c718a-6143-4669-b966-93d5487426f4",
   "metadata": {},
   "outputs": [
    {
     "ename": "NameError",
     "evalue": "name 'Analyzer' is not defined",
     "output_type": "error",
     "traceback": [
      "\u001b[0;31m---------------------------------------------------------------------------\u001b[0m",
      "\u001b[0;31mNameError\u001b[0m                                 Traceback (most recent call last)",
      "\u001b[0;32m/var/folders/5j/pkdd38zd0xj7wqcxk5tm8pj40000gn/T/ipykernel_4870/3797578451.py\u001b[0m in \u001b[0;36m<module>\u001b[0;34m\u001b[0m\n\u001b[1;32m      1\u001b[0m \u001b[0mget_ipython\u001b[0m\u001b[0;34m(\u001b[0m\u001b[0;34m)\u001b[0m\u001b[0;34m.\u001b[0m\u001b[0msystem\u001b[0m\u001b[0;34m(\u001b[0m\u001b[0;34m'python montecarlo.py'\u001b[0m\u001b[0;34m)\u001b[0m\u001b[0;34m\u001b[0m\u001b[0;34m\u001b[0m\u001b[0m\n\u001b[0;32m----> 2\u001b[0;31m \u001b[0mAnalyzer\u001b[0m\u001b[0;34m.\u001b[0m\u001b[0mjackpot\u001b[0m\u001b[0;34m(\u001b[0m\u001b[0mdf\u001b[0m\u001b[0;34m)\u001b[0m\u001b[0;34m\u001b[0m\u001b[0;34m\u001b[0m\u001b[0m\n\u001b[0m",
      "\u001b[0;31mNameError\u001b[0m: name 'Analyzer' is not defined"
     ]
    }
   ],
   "source": [
    "!python montecarlo.py\n",
    "Analyzer.jackpot(df)"
   ]
  },
  {
   "cell_type": "code",
   "execution_count": 10,
   "id": "1b9ba761-c0c2-4fcf-b351-b0818eb27bf2",
   "metadata": {},
   "outputs": [
    {
     "name": "stdout",
     "output_type": "stream",
     "text": [
      "      0    1    2\n",
      "0     H  [H]  [T]\n",
      "0     H  [H]  [T]\n",
      "1     H  [T]  [T]\n",
      "0     H  [H]  [T]\n",
      "1     H  [T]  [T]\n",
      "...  ..  ...  ...\n",
      "996   T  [H]  [T]\n",
      "997   H  [H]  [T]\n",
      "998   T  [H]  [T]\n",
      "999   T  [H]  [T]\n",
      "1000  H  [H]  [T]\n",
      "\n",
      "[501501 rows x 3 columns]\n"
     ]
    }
   ],
   "source": [
    "#3\n",
    "\n",
    "\n",
    "coin1=['H', 'T']\n",
    "coin2=['H', 'T']\n",
    "coin3=['H', 'T']\n",
    "\n",
    "M = []\n",
    "df = pd.DataFrame()\n",
    "for i in range(1001):\n",
    "    flip_coin1=choice(coin1)\n",
    "    flip_coin2=random.choices(coin2, weights=(5,1))\n",
    "    flip_coin3=random.choices(coin3, weights=(1,5))\n",
    "    present_roll = [flip_coin1, flip_coin2, flip_coin3]\n",
    "    M.append(present_roll)\n",
    "    df = df.append(M)\n",
    "    #print(df)\n",
    "\n",
    "\n",
    "print(df)"
   ]
  },
  {
   "cell_type": "markdown",
   "id": "5397668d-33ee-4d98-8d97-95cc95ac17ba",
   "metadata": {},
   "source": [
    "Scenario 2"
   ]
  },
  {
   "cell_type": "code",
   "execution_count": null,
   "id": "71cdc34e-572a-4fe9-8af9-830e28d0c8ae",
   "metadata": {},
   "outputs": [],
   "source": [
    "#1.\n",
    "import random\n",
    "import string\n",
    "import pandas as pd\n",
    "from numpy.random import choice\n",
    "\n",
    "die1=[1,2,3,4,5,6]\n",
    "type1_die=[1,2,3,4,5,6]\n",
    "type2_die=[1,2,3,4,5,6]\n",
    "\n",
    "H = []\n",
    "df = pd.DataFrame()\n",
    "for i in range(1001):\n",
    "    roll_die1=choice(die1)\n",
    "    roll_die2=choice(type1_die, p=[0.1,0.1,0.1,0.1,0.1,0.5])\n",
    "    roll_die3=choice(type2_die, p=[0.5,0.1,0.1,0.1,0.1,0.1])\n",
    "    present_roll = [roll_die1, roll_die2, roll_die3]\n",
    "    H.append(present_roll)\n",
    "    df = df.append(H)\n",
    "    #print(df)\n",
    "\n",
    "\n",
    "print(df)\n",
    "\n"
   ]
  },
  {
   "cell_type": "code",
   "execution_count": null,
   "id": "6f3debc7-6942-425d-82bf-26892b838283",
   "metadata": {},
   "outputs": [],
   "source": [
    "#2.\n",
    "die1=[1,2,3,4,5,6]\n",
    "die2=[1,2,3,4,5,6]\n",
    "die3=[1,2,3,4,5,6]\n",
    "die4=[1,2,3,4,5,6]\n",
    "die5=[1,2,3,4,5,6]\n",
    "\n",
    "K = []\n",
    "df = pd.DataFrame()\n",
    "for i in range(10001):\n",
    "    roll_die1=choice(die1)\n",
    "    roll_die2=choice(die2)\n",
    "    roll_die3=choice(die3)\n",
    "    roll_die4=choice(die4)\n",
    "    roll_die5=choice(die5)\n",
    "    present_roll = [roll_die1, roll_die2, roll_die3, roll_die4, roll_die5]\n",
    "    K.append(present_roll)\n",
    "    df = df.append(K)\n",
    "    #print(df)\n",
    "\n",
    "\n",
    "print(df)\n",
    "    "
   ]
  },
  {
   "cell_type": "code",
   "execution_count": null,
   "id": "98ffce1b-20c3-4149-866a-76646aa795af",
   "metadata": {},
   "outputs": [],
   "source": [
    "3.\n",
    "type1_die1=[1,2,3,4,5,6]\n",
    "type1_die2=[1,2,3,4,5,6]\n",
    "type2_die=[1,2,3,4,5,6]\n",
    "die4=[1,2,3,4,5,6]\n",
    "die5=[1,2,3,4,5,6]\n",
    "\n",
    "O = []\n",
    "df = pd.DataFrame()\n",
    "for i in range(1001):\n",
    "    roll_die1=choice(type1_die1, p=[0.1,0.1,0.1,0.1,0.1,0.5])\n",
    "    roll_die2=choice(type1_die2, p=[0.1,0.1,0.1,0.1,0.1,0.5])\n",
    "    roll_die3=choice(type2_die, p=[0.5,0.1,0.1,0.1,0.1,0.1])\n",
    "    roll_die4=choice(die4)\n",
    "    roll_die5=choice(die5)\n",
    "    present_roll = [roll_die1, roll_die2, roll_die3, roll_die4, roll_die5]\n",
    "    O.append(present_roll)\n",
    "    df = df.append(O)\n",
    "    #print(df)\n",
    "\n",
    "\n",
    "print(df)"
   ]
  },
  {
   "cell_type": "markdown",
   "id": "e70f5374-0e74-40eb-80e3-99e74346577a",
   "metadata": {},
   "source": [
    "Scenario 3"
   ]
  },
  {
   "cell_type": "code",
   "execution_count": null,
   "id": "99878805-6392-4a42-b467-1597cbbb2f93",
   "metadata": {},
   "outputs": [],
   "source": [
    "import random\n",
    "import string\n",
    "import pandas as pd\n",
    "from numpy.random import choice\n",
    " \n",
    "\n",
    "alphabet = []\n",
    "for i in range(97, 123):\n",
    "    alphabet.append(chr(i))\n",
    "\n",
    "#randomNumberList = choice(\n",
    "  #sampleList, 5, p=[0.05, 0.1, 0.15, 0.20, 0.5]) \n",
    "    \n",
    "L = []\n",
    "df = pd.DataFrame()\n",
    "for i in range(10):\n",
    "    currentRoll = choice(\n",
    "  alphabet, 5, p=[0.0812, 0.0149, 0.0271, 0.0432,\n",
    "                    0.1202, 0.023, 0.0203, 0.0592, \n",
    "                    0.0731, 0.001, 0.0070, 0.0398,\n",
    "                   0.0261, 0.0695, 0.0768, 0.0182, \n",
    "                   0.0011, 0.0602, 0.0628, 0.091, \n",
    "                   0.0288, 0.0111, 0.0209, 0.0017, \n",
    "                   0.0211, 0.0007])\n",
    "    L.append(currentRoll)\n",
    "    df = df.append(L)\n",
    "    #print(df)\n",
    "\n",
    "\n",
    "print(df)"
   ]
  },
  {
   "cell_type": "markdown",
   "id": "421cfa64-3419-4078-a1ca-45b14e31dbf3",
   "metadata": {},
   "source": [
    "There don't seem to be very many-if any-actual English words in the resulting sequence. (This is based on each 5 letter combo, if one looks for 1-letter/2 letter words in the mix, there are more e.g. 'a', 'oh', 'ad')"
   ]
  },
  {
   "cell_type": "code",
   "execution_count": null,
   "id": "725c7565-6837-4c90-bb1f-535dca2f2bd8",
   "metadata": {},
   "outputs": [],
   "source": []
  },
  {
   "cell_type": "code",
   "execution_count": null,
   "id": "da478a18-c48b-4285-802d-9e44fa82b372",
   "metadata": {},
   "outputs": [],
   "source": []
  }
 ],
 "metadata": {
  "kernelspec": {
   "display_name": "Python 3 (ipykernel)",
   "language": "python",
   "name": "python3"
  },
  "language_info": {
   "codemirror_mode": {
    "name": "ipython",
    "version": 3
   },
   "file_extension": ".py",
   "mimetype": "text/x-python",
   "name": "python",
   "nbconvert_exporter": "python",
   "pygments_lexer": "ipython3",
   "version": "3.9.7"
  }
 },
 "nbformat": 4,
 "nbformat_minor": 5
}
